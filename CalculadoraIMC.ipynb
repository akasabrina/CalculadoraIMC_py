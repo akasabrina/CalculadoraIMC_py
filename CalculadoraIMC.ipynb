{
  "nbformat": 4,
  "nbformat_minor": 0,
  "metadata": {
    "colab": {
      "provenance": [],
      "authorship_tag": "ABX9TyNA7nPM5rzCmdLz8C/OfCd+",
      "include_colab_link": true
    },
    "kernelspec": {
      "name": "python3",
      "display_name": "Python 3"
    },
    "language_info": {
      "name": "python"
    }
  },
  "cells": [
    {
      "cell_type": "markdown",
      "metadata": {
        "id": "view-in-github",
        "colab_type": "text"
      },
      "source": [
        "<a href=\"https://colab.research.google.com/github/akasabrina/CalculadoraIMC_py/blob/main/CalculadoraIMC.ipynb\" target=\"_parent\"><img src=\"https://colab.research.google.com/assets/colab-badge.svg\" alt=\"Open In Colab\"/></a>"
      ]
    },
    {
      "cell_type": "code",
      "execution_count": null,
      "metadata": {
        "colab": {
          "base_uri": "https://localhost:8080/"
        },
        "id": "r0bgwq7wIiPb",
        "outputId": "7d750b13-8bef-4917-9804-2d8ee4084ab0"
      },
      "outputs": [
        {
          "output_type": "stream",
          "name": "stdout",
          "text": [
            "Qual o seu peso(kg)? 140\n",
            "Qual a sua altura(m)? 2.0\n",
            "\n",
            "Seu IMC é 35.00\n",
            "\n",
            "IMC entre 35 e 39.9 \n",
            "Obesidade Grau II(severa).\n"
          ]
        }
      ],
      "source": [
        "peso = float(input(\"Qual o seu peso(kg)? \"))\n",
        "altura = float(input(\"Qual a sua altura(m)? \"))\n",
        "\n",
        "imc = peso / (altura**2)\n",
        "\n",
        "print(f\"\\nSeu IMC é {imc:,.2f}\")\n",
        "\n",
        "if imc < 18.5:\n",
        "\tprint(\"\\nIMC menor que 18.50 \\nAbaixo do peso normal.\")\n",
        "elif imc < 25:\n",
        "\tprint(\"\\nIMC entre 18.50 e 24.9 \\nPeso Normal.\")\n",
        "elif imc < 30:\n",
        "\tprint(\"\\nIMC entre 25 e 29.9 \\nExcesso de Peso.\")\n",
        "elif imc < 35:\n",
        "\tprint(\"\\nIMC entre 30 e 34.9 \\nObesidade Grau I.\")\n",
        "elif imc < 40:\n",
        "\tprint(\"\\nIMC entre 35 e 39.9 \\nObesidade Grau II(severa).\")\n",
        "else:\n",
        "\tprint(\"\\nIMC maior ou igual a 40 \\nObesidade Grau III(morbida).\")"
      ]
    }
  ]
}